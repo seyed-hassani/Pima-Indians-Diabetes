{
 "cells": [
  {
   "attachments": {},
   "cell_type": "markdown",
   "id": "6ed20bff",
   "metadata": {
    "id": "6ed20bff"
   },
   "source": [
    "<h1 align=center style=\"line-height:200%;font-family:vazir;color:#0099cc\">\n",
    "<font face=\"vazir\" color=\"#0099cc\">\n",
    "کم‌عمق بازی\n",
    "</font>\n",
    "</h1>\n",
    "\n",
    "<h2 align=right style=\"line-height:200%;font-family:vazir;color:#0099cc\">\n",
    "<font face=\"vazir\" color=\"#0099cc\">\n",
    "مقدمه </font>\n",
    "</h2>\n",
    "\n",
    "<p dir=rtl style=\"direction: rtl; text-align: justify; line-height:200%; font-family:vazir; font-size:medium\">\n",
    "<font face=\"vazir\" size=3>\n",
    "به یک تمرین اساسی از پایه‌ای‌ترین مباحث شبکه‌های عصبی خوش آمدید! 🤖 در این تمرین قصد داریم ساختار شبکه‌ی عصبی و الگوریتم آموزش آن را که در درسنامه‌های پیشین آموختید، از پایه پیاده‌سازی کنیم. کدنویسی در این سطح به شما کمک خواهد کرد که به‌شکل عملی، درک عمیق‌تری از نحوه‌ی کار این مدل پیدا کنید و در آینده نیز هنگام مواجهه با مدل‌های مختلف شبکه‌های عصبی قادر به تحلیل آسان‌تر ساختار آن‌ها باشید. در این تمرین پس از طراحی کامل یک <b>شبکه‌ی عصبی کم‌عمق (Shallow Neural Network)</b>، آن را روی مجموعه‌داده‌ی مشهور <b>دیابت پیما ایندیانز (Pima Indians Diabetes)</b> آموزش داده و عملکرد مدل را بر روی این مجموعه‌داده ارزیابی خواهیم کرد.\n",
    "</font>\n",
    "</p>"
   ]
  },
  {
   "attachments": {},
   "cell_type": "markdown",
   "id": "c5af1784",
   "metadata": {
    "id": "c5af1784"
   },
   "source": [
    "<h2 align=right style=\"line-height:200%;font-family:vazir;color:#0099cc\">\n",
    "<font face=\"vazir\" color=\"#0099cc\">\n",
    "وارد کردن کتابخانه‌های مورد نیاز\n",
    "</font>\n",
    "</h2>\n",
    "\n",
    "<p dir=rtl style=\"direction: rtl; text-align: justify; line-height:200%; font-family:vazir; font-size:medium\">\n",
    "<font face=\"vazir\" size=3>\n",
    "    ابتدا کتابخانه‌های مورد نیاز را وارد کنید. دقت کنید که در این تمرین مجاز به استفاده از کتابخانه‌هایی به‌جز موارد موجود در نت‌بوک نیستید.\n",
    "</font>\n",
    "</p>"
   ]
  },
  {
   "cell_type": "code",
   "execution_count": 68,
   "id": "99450f9e",
   "metadata": {
    "id": "99450f9e"
   },
   "outputs": [],
   "source": [
    "import numpy as np\n",
    "import pandas as pd\n",
    "from sklearn.metrics import accuracy_score, precision_score, recall_score, f1_score, confusion_matrix\n"
   ]
  },
  {
   "attachments": {},
   "cell_type": "markdown",
   "id": "72faaed8",
   "metadata": {
    "id": "72faaed8"
   },
   "source": [
    "<h2 align=right style=\"line-height:200%;font-family:vazir;color:#0099cc\">\n",
    "<font face=\"vazir\" color=\"#0099cc\">\n",
    "مجموعه‌داده\n",
    "</font>\n",
    "</h2>\n",
    "\n",
    "<p dir=rtl style=\"direction: rtl; text-align: justify; line-height:200%; font-family:vazir; font-size:medium\">\n",
    "<font face=\"vazir\" size=3>\n",
    "در این تمرین از مجموعه‌‌داده‌ی ساده اما مشهور <b>دیابت پیما ایندیانز (Pima Indians Diabetes)</b>\n",
    "استفاده خواهیم کرد. این مجموعه‌داده شامل اطلاعات مربوط به ۷۶۸ زن بومی آمریکا از قبیله‌ی پیما است که برای بررسی عوامل خطر  ابتلا به دیابت نوع ۲ جمع‌آوری شده است. این اطلاعات شامل سن، وزن، قد، سابقه‌ی خانوادگی دیابت، فشار خون، سطح گلوکز خون و سایر عوامل می‌شود.\n",
    "</font>\n",
    "</p>\n",
    "\n",
    "<center>\n",
    "<div dir=rtl style=\"direction: rtl;line-height:200%;font-family:vazir;font-size:medium\">\n",
    "<font face=\"vazir\" size=3>\n",
    "    \n",
    "|ستون|توضیحات|\n",
    "|:------:|:---:|\n",
    "|<code>Pregnancies</code>|تعداد بارداری های فرد|\n",
    "|<code>Glucose</code>|سطح گلوکز خون (<code dir=ltr>mg/dL</code>)|\n",
    "|<code>BloodPressure</code>|فشار خون سیستولیک (<code>mmHg</code>)|\n",
    "|<code>SkinThickness</code>|ضخامت پوست (<code dir=ltr>mm</code>) |\n",
    "|<code>Insulin</code>|سطح انسولین خون (<code dir=ltr>μU/mL</code>) |\n",
    "|<code>BMI</code>|شاخص توده بدنی (<code dir=ltr>kg/m^2</code>) |\n",
    "|<code>DiabetesPedigreeFunction</code>|تابعی بیانگر سابقه‌ی خانوادگی دیابت|\n",
    "|<code>Age</code>|سن زن (سال) |\n",
    "|<code>Outcome</code>|عدم ابتلا (<code>0</code>) یا ابتلا (<code>1</code>) به دیابت|\n",
    "\n",
    "</font>\n",
    "</div>\n",
    "</center>"
   ]
  },
  {
   "attachments": {},
   "cell_type": "markdown",
   "id": "e99bbe9b",
   "metadata": {
    "id": "e99bbe9b"
   },
   "source": [
    "<h3 align=right style=\"line-height:200%;font-family:vazir;color:#0099cc\">\n",
    "<font face=\"vazir\" color=\"#0099cc\">\n",
    "خوانش مجموعه‌داده\n",
    "</font>\n",
    "</h3>\n",
    "\n",
    "<p dir=rtl style=\"direction: rtl; text-align: justify; line-height:200%; font-family:vazir; font-size:medium\">\n",
    "<font face=\"vazir\" size=3>\n",
    "   در ابتدا نیاز است فایل‌ مجموعه‌داده را بخوانید. داده‌‌های آموزش را می‌توانید از فایل <code>diabetes_train.csv</code> موجود در پوشه‌ی <code>data</code> بخوانید و از نمونه‌های موجود در آن برای آموزش مدل استفاده کنید.\n",
    " عملکرد مدل شما روی داده‌ی <code>diabetes_test.csv</code> بررسی می‌شود که از نظر ساختار مانند داده‌های آموزش است با این تفاوت که ستون <code>Outcome</code> از آن حذف شده‌است.\n",
    "</font>\n",
    "</p>"
   ]
  },
  {
   "cell_type": "code",
   "execution_count": 45,
   "id": "G0RGXL7GAdU-",
   "metadata": {
    "id": "G0RGXL7GAdU-"
   },
   "outputs": [
    {
     "data": {
      "text/html": [
       "<div>\n",
       "<style scoped>\n",
       "    .dataframe tbody tr th:only-of-type {\n",
       "        vertical-align: middle;\n",
       "    }\n",
       "\n",
       "    .dataframe tbody tr th {\n",
       "        vertical-align: top;\n",
       "    }\n",
       "\n",
       "    .dataframe thead th {\n",
       "        text-align: right;\n",
       "    }\n",
       "</style>\n",
       "<table border=\"1\" class=\"dataframe\">\n",
       "  <thead>\n",
       "    <tr style=\"text-align: right;\">\n",
       "      <th></th>\n",
       "      <th>Pregnancies</th>\n",
       "      <th>Glucose</th>\n",
       "      <th>BloodPressure</th>\n",
       "      <th>SkinThickness</th>\n",
       "      <th>Insulin</th>\n",
       "      <th>BMI</th>\n",
       "      <th>DiabetesPedigreeFunction</th>\n",
       "      <th>Age</th>\n",
       "    </tr>\n",
       "  </thead>\n",
       "  <tbody>\n",
       "    <tr>\n",
       "      <th>0</th>\n",
       "      <td>6</td>\n",
       "      <td>98</td>\n",
       "      <td>58</td>\n",
       "      <td>33</td>\n",
       "      <td>190</td>\n",
       "      <td>34.0</td>\n",
       "      <td>0.430</td>\n",
       "      <td>43</td>\n",
       "    </tr>\n",
       "    <tr>\n",
       "      <th>1</th>\n",
       "      <td>9</td>\n",
       "      <td>154</td>\n",
       "      <td>78</td>\n",
       "      <td>30</td>\n",
       "      <td>100</td>\n",
       "      <td>30.9</td>\n",
       "      <td>0.164</td>\n",
       "      <td>45</td>\n",
       "    </tr>\n",
       "    <tr>\n",
       "      <th>2</th>\n",
       "      <td>6</td>\n",
       "      <td>165</td>\n",
       "      <td>68</td>\n",
       "      <td>26</td>\n",
       "      <td>168</td>\n",
       "      <td>33.6</td>\n",
       "      <td>0.631</td>\n",
       "      <td>49</td>\n",
       "    </tr>\n",
       "    <tr>\n",
       "      <th>3</th>\n",
       "      <td>1</td>\n",
       "      <td>99</td>\n",
       "      <td>58</td>\n",
       "      <td>10</td>\n",
       "      <td>0</td>\n",
       "      <td>25.4</td>\n",
       "      <td>0.551</td>\n",
       "      <td>21</td>\n",
       "    </tr>\n",
       "    <tr>\n",
       "      <th>4</th>\n",
       "      <td>10</td>\n",
       "      <td>68</td>\n",
       "      <td>106</td>\n",
       "      <td>23</td>\n",
       "      <td>49</td>\n",
       "      <td>35.5</td>\n",
       "      <td>0.285</td>\n",
       "      <td>47</td>\n",
       "    </tr>\n",
       "  </tbody>\n",
       "</table>\n",
       "</div>"
      ],
      "text/plain": [
       "   Pregnancies  Glucose  BloodPressure  SkinThickness  Insulin   BMI  \\\n",
       "0            6       98             58             33      190  34.0   \n",
       "1            9      154             78             30      100  30.9   \n",
       "2            6      165             68             26      168  33.6   \n",
       "3            1       99             58             10        0  25.4   \n",
       "4           10       68            106             23       49  35.5   \n",
       "\n",
       "   DiabetesPedigreeFunction  Age  \n",
       "0                     0.430   43  \n",
       "1                     0.164   45  \n",
       "2                     0.631   49  \n",
       "3                     0.551   21  \n",
       "4                     0.285   47  "
      ]
     },
     "execution_count": 45,
     "metadata": {},
     "output_type": "execute_result"
    }
   ],
   "source": [
    "train_data = pd.read_csv(r\".\\data\\diabetes_train.csv\")\n",
    "train_data.head()\n",
    "\n",
    "test_data = pd.read_csv(r\"./data/diabetes_test.csv\") # TODO\n",
    "test_data.head()"
   ]
  },
  {
   "cell_type": "markdown",
   "id": "xC1ZkYvjPSLZ",
   "metadata": {
    "id": "xC1ZkYvjPSLZ"
   },
   "source": [
    "<h2 align=right style=\"line-height:200%;font-family:vazir;color:#0099cc\">\n",
    "<font face=\"vazir\" color=\"#0099cc\">\n",
    "پیش‌پردازش و مهندسی ویژگی\n",
    "</font>\n",
    "</h2>\n",
    "\n",
    "<p dir=rtl style=\"direction: rtl; text-align: justify; line-height:200%; font-family:vazir; font-size:medium\">\n",
    "<font face=\"vazir\" size=3>\n",
    " ابتدا ستون متغیر هدف (<code>Outcome</code>) را در یک دیتافریم دیگر ذخیره کنید و سپس این ستون را از دیتافریم <code>train_data</code> حذف کنید تا ماتریس معادل $X$ و $y$ ساخته شوند.</font>\n",
    "</p>"
   ]
  },
  {
   "cell_type": "code",
   "execution_count": 46,
   "id": "55ZpW69qO2Tw",
   "metadata": {
    "id": "55ZpW69qO2Tw"
   },
   "outputs": [
    {
     "data": {
      "text/html": [
       "<div>\n",
       "<style scoped>\n",
       "    .dataframe tbody tr th:only-of-type {\n",
       "        vertical-align: middle;\n",
       "    }\n",
       "\n",
       "    .dataframe tbody tr th {\n",
       "        vertical-align: top;\n",
       "    }\n",
       "\n",
       "    .dataframe thead th {\n",
       "        text-align: right;\n",
       "    }\n",
       "</style>\n",
       "<table border=\"1\" class=\"dataframe\">\n",
       "  <thead>\n",
       "    <tr style=\"text-align: right;\">\n",
       "      <th></th>\n",
       "      <th>Pregnancies</th>\n",
       "      <th>Glucose</th>\n",
       "      <th>BloodPressure</th>\n",
       "      <th>SkinThickness</th>\n",
       "      <th>Insulin</th>\n",
       "      <th>BMI</th>\n",
       "      <th>DiabetesPedigreeFunction</th>\n",
       "      <th>Age</th>\n",
       "    </tr>\n",
       "  </thead>\n",
       "  <tbody>\n",
       "    <tr>\n",
       "      <th>0</th>\n",
       "      <td>6</td>\n",
       "      <td>148</td>\n",
       "      <td>72</td>\n",
       "      <td>35</td>\n",
       "      <td>0</td>\n",
       "      <td>33.6</td>\n",
       "      <td>0.627</td>\n",
       "      <td>50</td>\n",
       "    </tr>\n",
       "    <tr>\n",
       "      <th>1</th>\n",
       "      <td>1</td>\n",
       "      <td>85</td>\n",
       "      <td>66</td>\n",
       "      <td>29</td>\n",
       "      <td>0</td>\n",
       "      <td>26.6</td>\n",
       "      <td>0.351</td>\n",
       "      <td>31</td>\n",
       "    </tr>\n",
       "    <tr>\n",
       "      <th>2</th>\n",
       "      <td>8</td>\n",
       "      <td>183</td>\n",
       "      <td>64</td>\n",
       "      <td>0</td>\n",
       "      <td>0</td>\n",
       "      <td>23.3</td>\n",
       "      <td>0.672</td>\n",
       "      <td>32</td>\n",
       "    </tr>\n",
       "    <tr>\n",
       "      <th>3</th>\n",
       "      <td>1</td>\n",
       "      <td>89</td>\n",
       "      <td>66</td>\n",
       "      <td>23</td>\n",
       "      <td>94</td>\n",
       "      <td>28.1</td>\n",
       "      <td>0.167</td>\n",
       "      <td>21</td>\n",
       "    </tr>\n",
       "    <tr>\n",
       "      <th>4</th>\n",
       "      <td>0</td>\n",
       "      <td>137</td>\n",
       "      <td>40</td>\n",
       "      <td>35</td>\n",
       "      <td>168</td>\n",
       "      <td>43.1</td>\n",
       "      <td>2.288</td>\n",
       "      <td>33</td>\n",
       "    </tr>\n",
       "  </tbody>\n",
       "</table>\n",
       "</div>"
      ],
      "text/plain": [
       "   Pregnancies  Glucose  BloodPressure  SkinThickness  Insulin   BMI  \\\n",
       "0            6      148             72             35        0  33.6   \n",
       "1            1       85             66             29        0  26.6   \n",
       "2            8      183             64              0        0  23.3   \n",
       "3            1       89             66             23       94  28.1   \n",
       "4            0      137             40             35      168  43.1   \n",
       "\n",
       "   DiabetesPedigreeFunction  Age  \n",
       "0                     0.627   50  \n",
       "1                     0.351   31  \n",
       "2                     0.672   32  \n",
       "3                     0.167   21  \n",
       "4                     2.288   33  "
      ]
     },
     "execution_count": 46,
     "metadata": {},
     "output_type": "execute_result"
    }
   ],
   "source": [
    "train_data_outcome = train_data[\"Outcome\"]\n",
    "train_data = train_data.drop(columns=[\"Outcome\"])\n",
    "\n",
    "train_data.head()"
   ]
  },
  {
   "attachments": {},
   "cell_type": "markdown",
   "id": "23daec54",
   "metadata": {
    "id": "23daec54"
   },
   "source": [
    "<p dir=rtl style=\"direction: rtl; text-align: justify; line-height:200%; font-family:vazir; font-size:medium\">\n",
    "<font face=\"vazir\" size=3>\n",
    " یکی از اعمال مهم پیش‌پردازش، تغییر مقیاس ویژگی‌ها به‌صورت توزیع نرمال است که اصطلاحاً به آن نرمال‌سازی (Normalization) می‌گوییم.\n",
    " نرمال‌سازی به کاهش تغییرات شدید در وزن‌ها کمک کرده و باعث سرعت بالاتر همگرایی مدل می‌شود. \n",
    "برای انجام نرمال‌سازی در این تمرین باید اعداد هر ویژگی را طوری تغییر دهیم که میانگین آن‌ها <code>0</code> شود و واریانس <code>1</code> داشته باشند، این‌کار را می‌توانیم با استفاده از فرمول زیر انجام دهیم.\n",
    "برای سری داده‌ی <code>X</code> (که در اینجا مقادیر هر ستون می‌باشد) به طوری‌که <code>X = [x_1, x_2, ..., x_n]</code>، با کم کردن میانگین از هر نمونه‌ی داده (<code>x_i</code>) و تقسیم آن بر انحراف معیار داده‌ها (سیگما) می‌توانیم سری داده‌ی نرمال‌شده را به‌دست آوریم.\n",
    "</font>\n",
    "</p>\n",
    "\n",
    "$$ Z = \\frac{x_i - \\bar{x}}{\\sigma} $$\n",
    "\n",
    "<p dir=rtl style=\"direction: rtl; text-align: justify; line-height:200%; font-family:vazir; font-size:medium\">\n",
    "<font face=\"vazir\" size=3>\n",
    "دقت داشته باشید، از آنجا که در واقع ما فقط اطلاعات مربوط به مجموعه‌داده‌ی آموزش را در هنگام ساخت مدل داریم، برای نرمال‌سازی نمونه‌های آزمون نیز باید از میانگین و انحراف معیار نمونه‌های آموزش استفاده کنیم.\n",
    "</font>\n",
    "</p>"
   ]
  },
  {
   "cell_type": "code",
   "execution_count": 47,
   "id": "SdqTc_4yJhj8",
   "metadata": {
    "id": "SdqTc_4yJhj8"
   },
   "outputs": [
    {
     "data": {
      "text/html": [
       "<div>\n",
       "<style scoped>\n",
       "    .dataframe tbody tr th:only-of-type {\n",
       "        vertical-align: middle;\n",
       "    }\n",
       "\n",
       "    .dataframe tbody tr th {\n",
       "        vertical-align: top;\n",
       "    }\n",
       "\n",
       "    .dataframe thead th {\n",
       "        text-align: right;\n",
       "    }\n",
       "</style>\n",
       "<table border=\"1\" class=\"dataframe\">\n",
       "  <thead>\n",
       "    <tr style=\"text-align: right;\">\n",
       "      <th></th>\n",
       "      <th>Pregnancies</th>\n",
       "      <th>Glucose</th>\n",
       "      <th>BloodPressure</th>\n",
       "      <th>SkinThickness</th>\n",
       "      <th>Insulin</th>\n",
       "      <th>BMI</th>\n",
       "      <th>DiabetesPedigreeFunction</th>\n",
       "      <th>Age</th>\n",
       "    </tr>\n",
       "  </thead>\n",
       "  <tbody>\n",
       "    <tr>\n",
       "      <th>0</th>\n",
       "      <td>0.649833</td>\n",
       "      <td>0.854539</td>\n",
       "      <td>0.166518</td>\n",
       "      <td>0.900880</td>\n",
       "      <td>-0.687695</td>\n",
       "      <td>0.222281</td>\n",
       "      <td>0.438405</td>\n",
       "      <td>1.443781</td>\n",
       "    </tr>\n",
       "    <tr>\n",
       "      <th>1</th>\n",
       "      <td>-0.835754</td>\n",
       "      <td>-1.096441</td>\n",
       "      <td>-0.140758</td>\n",
       "      <td>0.526362</td>\n",
       "      <td>-0.687695</td>\n",
       "      <td>-0.672046</td>\n",
       "      <td>-0.370035</td>\n",
       "      <td>-0.178571</td>\n",
       "    </tr>\n",
       "    <tr>\n",
       "      <th>2</th>\n",
       "      <td>1.244068</td>\n",
       "      <td>1.938416</td>\n",
       "      <td>-0.243184</td>\n",
       "      <td>-1.283807</td>\n",
       "      <td>-0.687695</td>\n",
       "      <td>-1.093658</td>\n",
       "      <td>0.570216</td>\n",
       "      <td>-0.093184</td>\n",
       "    </tr>\n",
       "    <tr>\n",
       "      <th>3</th>\n",
       "      <td>-0.835754</td>\n",
       "      <td>-0.972569</td>\n",
       "      <td>-0.140758</td>\n",
       "      <td>0.151844</td>\n",
       "      <td>0.123855</td>\n",
       "      <td>-0.480405</td>\n",
       "      <td>-0.908995</td>\n",
       "      <td>-1.032441</td>\n",
       "    </tr>\n",
       "    <tr>\n",
       "      <th>4</th>\n",
       "      <td>-1.132872</td>\n",
       "      <td>0.513891</td>\n",
       "      <td>-1.472290</td>\n",
       "      <td>0.900880</td>\n",
       "      <td>0.762734</td>\n",
       "      <td>1.436011</td>\n",
       "      <td>5.303692</td>\n",
       "      <td>-0.007797</td>\n",
       "    </tr>\n",
       "  </tbody>\n",
       "</table>\n",
       "</div>"
      ],
      "text/plain": [
       "   Pregnancies   Glucose  BloodPressure  SkinThickness   Insulin       BMI  \\\n",
       "0     0.649833  0.854539       0.166518       0.900880 -0.687695  0.222281   \n",
       "1    -0.835754 -1.096441      -0.140758       0.526362 -0.687695 -0.672046   \n",
       "2     1.244068  1.938416      -0.243184      -1.283807 -0.687695 -1.093658   \n",
       "3    -0.835754 -0.972569      -0.140758       0.151844  0.123855 -0.480405   \n",
       "4    -1.132872  0.513891      -1.472290       0.900880  0.762734  1.436011   \n",
       "\n",
       "   DiabetesPedigreeFunction       Age  \n",
       "0                  0.438405  1.443781  \n",
       "1                 -0.370035 -0.178571  \n",
       "2                  0.570216 -0.093184  \n",
       "3                 -0.908995 -1.032441  \n",
       "4                  5.303692 -0.007797  "
      ]
     },
     "execution_count": 47,
     "metadata": {},
     "output_type": "execute_result"
    }
   ],
   "source": [
    "for column in train_data.columns:\n",
    "  mean = train_data[column].mean() # TODO (Mean of train_data[column])\n",
    "  std = train_data[column].std()# TODO (Standard Deviation of train_data[column])\n",
    "  train_data[column]=(train_data[column]- mean)/std\n",
    "  test_data[column]=(test_data[column] - mean)/std\n",
    "    \n",
    "train_data.head()"
   ]
  },
  {
   "attachments": {},
   "cell_type": "markdown",
   "id": "aJ_JKTjcV14w",
   "metadata": {
    "id": "aJ_JKTjcV14w"
   },
   "source": [
    "<p dir=rtl style=\"direction: rtl; text-align: justify; line-height:200%; font-family:vazir; font-size:medium\">\n",
    "<font face=\"vazir\" size=3>\n",
    "حال مقدار بایاس را به دیتافریم اضافه می‌کنیم. برای این‌کار باید یک ستون با مقدار <code>1</code> به ابتدای مجموعه‌‌داده اضافه کنیم.\n",
    "</font>\n",
    "</p>\n"
   ]
  },
  {
   "cell_type": "code",
   "execution_count": 48,
   "id": "9rG3CgSzV1Oo",
   "metadata": {
    "id": "9rG3CgSzV1Oo"
   },
   "outputs": [
    {
     "data": {
      "text/html": [
       "<div>\n",
       "<style scoped>\n",
       "    .dataframe tbody tr th:only-of-type {\n",
       "        vertical-align: middle;\n",
       "    }\n",
       "\n",
       "    .dataframe tbody tr th {\n",
       "        vertical-align: top;\n",
       "    }\n",
       "\n",
       "    .dataframe thead th {\n",
       "        text-align: right;\n",
       "    }\n",
       "</style>\n",
       "<table border=\"1\" class=\"dataframe\">\n",
       "  <thead>\n",
       "    <tr style=\"text-align: right;\">\n",
       "      <th></th>\n",
       "      <th>bias</th>\n",
       "      <th>Pregnancies</th>\n",
       "      <th>Glucose</th>\n",
       "      <th>BloodPressure</th>\n",
       "      <th>SkinThickness</th>\n",
       "      <th>Insulin</th>\n",
       "      <th>BMI</th>\n",
       "      <th>DiabetesPedigreeFunction</th>\n",
       "      <th>Age</th>\n",
       "    </tr>\n",
       "  </thead>\n",
       "  <tbody>\n",
       "    <tr>\n",
       "      <th>0</th>\n",
       "      <td>1</td>\n",
       "      <td>0.649833</td>\n",
       "      <td>0.854539</td>\n",
       "      <td>0.166518</td>\n",
       "      <td>0.900880</td>\n",
       "      <td>-0.687695</td>\n",
       "      <td>0.222281</td>\n",
       "      <td>0.438405</td>\n",
       "      <td>1.443781</td>\n",
       "    </tr>\n",
       "    <tr>\n",
       "      <th>1</th>\n",
       "      <td>1</td>\n",
       "      <td>-0.835754</td>\n",
       "      <td>-1.096441</td>\n",
       "      <td>-0.140758</td>\n",
       "      <td>0.526362</td>\n",
       "      <td>-0.687695</td>\n",
       "      <td>-0.672046</td>\n",
       "      <td>-0.370035</td>\n",
       "      <td>-0.178571</td>\n",
       "    </tr>\n",
       "    <tr>\n",
       "      <th>2</th>\n",
       "      <td>1</td>\n",
       "      <td>1.244068</td>\n",
       "      <td>1.938416</td>\n",
       "      <td>-0.243184</td>\n",
       "      <td>-1.283807</td>\n",
       "      <td>-0.687695</td>\n",
       "      <td>-1.093658</td>\n",
       "      <td>0.570216</td>\n",
       "      <td>-0.093184</td>\n",
       "    </tr>\n",
       "    <tr>\n",
       "      <th>3</th>\n",
       "      <td>1</td>\n",
       "      <td>-0.835754</td>\n",
       "      <td>-0.972569</td>\n",
       "      <td>-0.140758</td>\n",
       "      <td>0.151844</td>\n",
       "      <td>0.123855</td>\n",
       "      <td>-0.480405</td>\n",
       "      <td>-0.908995</td>\n",
       "      <td>-1.032441</td>\n",
       "    </tr>\n",
       "    <tr>\n",
       "      <th>4</th>\n",
       "      <td>1</td>\n",
       "      <td>-1.132872</td>\n",
       "      <td>0.513891</td>\n",
       "      <td>-1.472290</td>\n",
       "      <td>0.900880</td>\n",
       "      <td>0.762734</td>\n",
       "      <td>1.436011</td>\n",
       "      <td>5.303692</td>\n",
       "      <td>-0.007797</td>\n",
       "    </tr>\n",
       "  </tbody>\n",
       "</table>\n",
       "</div>"
      ],
      "text/plain": [
       "   bias  Pregnancies   Glucose  BloodPressure  SkinThickness   Insulin  \\\n",
       "0     1     0.649833  0.854539       0.166518       0.900880 -0.687695   \n",
       "1     1    -0.835754 -1.096441      -0.140758       0.526362 -0.687695   \n",
       "2     1     1.244068  1.938416      -0.243184      -1.283807 -0.687695   \n",
       "3     1    -0.835754 -0.972569      -0.140758       0.151844  0.123855   \n",
       "4     1    -1.132872  0.513891      -1.472290       0.900880  0.762734   \n",
       "\n",
       "        BMI  DiabetesPedigreeFunction       Age  \n",
       "0  0.222281                  0.438405  1.443781  \n",
       "1 -0.672046                 -0.370035 -0.178571  \n",
       "2 -1.093658                  0.570216 -0.093184  \n",
       "3 -0.480405                 -0.908995 -1.032441  \n",
       "4  1.436011                  5.303692 -0.007797  "
      ]
     },
     "execution_count": 48,
     "metadata": {},
     "output_type": "execute_result"
    }
   ],
   "source": [
    "train_bias = pd.Series([1] * len(train_data), name='Bias')\n",
    "train_data.insert(0, 'bias', train_bias)\n",
    "\n",
    "test_bias = pd.Series([1] * len(test_data), name='Bias')\n",
    "test_data.insert(0,'Bias',test_bias)\n",
    "\n",
    "train_data.head()"
   ]
  },
  {
   "attachments": {},
   "cell_type": "markdown",
   "id": "3v9EZ_yvOFOo",
   "metadata": {
    "id": "3v9EZ_yvOFOo"
   },
   "source": [
    "<p dir=rtl style=\"direction: rtl; text-align: justify; line-height:200%; font-family:vazir; font-size:medium\">\n",
    "<font face=\"vazir\" size=3>\n",
    " قبل از طراحی و آموزش مدل ابتدا باید مجموعه‌داده را از حالت دیتافریم به آرایه‌ی <code>numpy</code> کنیم. بنابراین در این مرحله دیتافرم‌های <code>train_data</code> ،<code>train_data_outcome</code>  را تبدیل به آرایه‌های <code>numpy</code> کنید.\n",
    " همچنین به‌کمک تابع <code>train_test_split</code> این مجموعه‌داده را با نسبت <code>0.2</code> به دو بخش آموزش و اعتبارسنجی تقسیم کنید.\n",
    "<br>\n",
    "    توجه کنید که با توجه به درسنامه‌ی پیشین هر <b>سطر</b> از ماتریس ورودی نشان دهنده‌ی یک <b>ویژگی</b> و هر <b>ستون</b> نشان دهنده‌ی یک <b>نمونه</b> است، بنابراین در این مرحله نیاز است ماتریس ویژگی‌ها را ترانهاده کنید. این عمل برای متغیر هدف یا <code>train_data_outcome</code> نیز باید انجام گردد.\n",
    "</font>\n",
    "</p>\n",
    "\n"
   ]
  },
  {
   "cell_type": "code",
   "execution_count": 49,
   "id": "Mv51e2pFQIgZ",
   "metadata": {
    "id": "Mv51e2pFQIgZ"
   },
   "outputs": [],
   "source": [
    "from sklearn.model_selection import train_test_split\n",
    "train_data = train_data.to_numpy()\n",
    "train_data_outcome = train_data_outcome.to_numpy()\n",
    "\n",
    "X_train, X_validation, y_train, y_validation = train_test_split(train_data, train_data_outcome, test_size=0.2) \n",
    "\n",
    "X_train =X_train.T\n",
    "X_validation =X_validation.T # TODO\n",
    "y_train = y_train.T # TODO\n",
    "y_validation = y_validation.T # TODO\n",
    "test_data_numpy = test_data.T # TODO"
   ]
  },
  {
   "cell_type": "markdown",
   "id": "nVUEonOBRDYO",
   "metadata": {
    "id": "nVUEonOBRDYO"
   },
   "source": [
    "   <p dir=rtl style=\"direction: rtl; text-align: justify; line-height:200%; font-family:vazir; font-size:medium\">\n",
    "برای اطمینان از درستی تنظیمات ورودی و خروجی مدل، با اجرای سلول بعد باید به خروجی زیر برسید.\n",
    "     </p>\n",
    "\n",
    "```\n",
    "X_train.shape:(9, 534), y_train.shape:(534,)\n",
    "X_validation.shape:(9, 134), y_validation.shape:(134,)\n",
    "test_data_numpy.shape:(9, 100)\n",
    "```"
   ]
  },
  {
   "cell_type": "code",
   "execution_count": 50,
   "id": "VeyFrPkYQyhI",
   "metadata": {
    "id": "VeyFrPkYQyhI"
   },
   "outputs": [
    {
     "name": "stdout",
     "output_type": "stream",
     "text": [
      "X_train.shape:(9, 534), y_train.shape:(534,)\n",
      "X_validation.shape:(9, 134), y_validation.shape:(134,)\n",
      "test_data_numpy.shape:(9, 100)\n"
     ]
    }
   ],
   "source": [
    "print(f'X_train.shape:{X_train.shape}, y_train.shape:{y_train.shape}')\n",
    "print(f'X_validation.shape:{X_validation.shape}, y_validation.shape:{y_validation.shape}')\n",
    "print(f'test_data_numpy.shape:{test_data_numpy.shape}')"
   ]
  },
  {
   "attachments": {},
   "cell_type": "markdown",
   "id": "f99f2c94",
   "metadata": {
    "id": "f99f2c94"
   },
   "source": [
    "<h2 align=right style=\"line-height:200%;font-family:vazir;color:#0099cc\">\n",
    "<font face=\"vazir\" color=\"#0099cc\">\n",
    "مدل‌سازی\n",
    "</font>\n",
    "</h2>\n",
    "<p dir=rtl style=\"direction: rtl; text-align: justify; line-height:200%; font-family:vazir; font-size:medium\">\n",
    "<font face=\"vazir\" size=3>\n",
    "    اکنون که داده‌ها را پردازش و آماده کردید نوبت به قسمت اصلی یعنی ساخت مدل می‌رسد. در اینجا از شما خواسته شده تا یک مدل ساده‌ی کم‌عمق را با روش نزول گرادیان از صفر پیاده کنید. برای این کار قدم به قدم هر جزء این مدل را شرح خواهیم داد تا نسبت به پیاده‌‌سازی آن اقدام کنید.\n",
    "    <br>\n",
    "این مدل یک شبکه‌ی عصبی کم‌عمق با یک لایه‌ی پنهان با <code>1000</code> نورون می‌باشد، همچنین تابع فعال‌ساز این لایه، تابع فعال‌ساز یکسوساز (<code>ReLU</code>) می‌باشد که در درسنامه‌ی تابع ‌فعال‌ساز با آن آشنا شدید. همچنین تابع فعال‌ساز لایه‌ی خروجی تابع سیگموید (<code>sigmoid</code>) می‌باشد. توجه کنید فرمول‌های مورد نیاز هر بخش در ادامه آمده است. دو تابع فعال‌ساز مورد نظر را در ادامه پیاده‌سازی کرده‌ایم.\n",
    "</font>\n",
    "</p>\n",
    "\n",
    "<center>\n",
    "\n",
    "```python\n",
    "sigmoid_Z = 1 / (1 + np.exp(-Z)\n",
    "```\n",
    "\n",
    "```python\n",
    "ReLU_Z = np.maximum(0, Z)\n",
    "```\n",
    "\n",
    "</center>\n",
    "\n",
    "<p dir=rtl style=\"direction: rtl; text-align: justify; line-height:200%; font-family:vazir; font-size:medium\">\n",
    "<font face=\"vazir\" size=3>\n",
    "<br>\n",
    "    <span style=\"color:orange\"><b>نکته: </b></span>\n",
    "    در اعمال ریاضی و محاسباتی خود تنها از کتابخانه‌ی نامپای استفاده کنید و لیست‌های خود را نیز به شکل آرایه‌ی نامپای تعریف کنید.\n",
    "    <br>\n",
    "</font>\n",
    "</p>\n"
   ]
  },
  {
   "attachments": {},
   "cell_type": "markdown",
   "id": "eba56793-2a50-4373-be5e-7b73442c19a0",
   "metadata": {},
   "source": [
    "<p dir=rtl style=\"direction: rtl; text-align: justify; line-height:200%; font-family:vazir; font-size:medium\">\n",
    "<font face=\"vazir\" size=3>\n",
    "    <span style=\"color:purple\"><b>یادآوری: </b></span>\n",
    "    تابع سیگموید\n",
    "</font>\n",
    "</p>\n",
    "\n",
    "<center>\n",
    "<div dir=ltr style=\"direction: ltr;line-height:200%;font-family:vazir;font-size:medium\">\n",
    "<font face=\"vazir\" size=3>\n",
    "\n",
    "| تابع سیگموید | مشتق تابع سیگموید |\n",
    "| :---: | :--: |\n",
    "|$f(z) = \\frac{1}{1 + e^{-z}}$|$f'(z) =f(z)(1-f(z))$|\n",
    "\n",
    "</font>\n",
    "</div>\n",
    "</center>\n",
    "\n",
    "<p dir=rtl style=\"direction: rtl; text-align: justify; line-height:200%; font-family:vazir; font-size:medium\">\n",
    "<font face=\"vazir\" size=3>\n",
    "    <span style=\"color:purple\"><b>یادآوری: </b></span>\n",
    "    تابع یکسوساز (ReLU)\n",
    "</font>\n",
    "</p>\n",
    "\n",
    "<center>\n",
    "<div dir=ltr style=\"direction: ltr;line-height:200%;font-family:vazir;font-size:medium\">\n",
    "<font face=\"vazir\" size=3>\n",
    "\n",
    "| تابع یکسوساز  | مشتق تابع  یکسوساز  |\n",
    "| :---: | :--: |\n",
    "|$$f(z) = \\begin{cases} 0 & \\text{if } z < 0 \\\\ z & \\text{if } z \\geq 0\\end{cases}$$|$$f'(z) = \\begin{cases} 0 & \\text{if } z < 0 \\\\ 1 & \\text{if } z \\geq 0\\end{cases}$$|\n",
    "\n",
    "</font>\n",
    "</div>\n",
    "</center>"
   ]
  },
  {
   "attachments": {},
   "cell_type": "markdown",
   "id": "8b86c670",
   "metadata": {
    "id": "8b86c670"
   },
   "source": [
    "<h2 align=right style=\"line-height:200%;font-family:vazir;color:#0099cc\">\n",
    "<font face=\"vazir\" color=\"#0099cc\">\n",
    "   <code>Model</code> ساخت کلاس\n",
    "</font>\n",
    "</h2>\n",
    "<p dir=rtl style=\"direction: rtl; text-align: justify; line-height:200%; font-family:vazir; font-size:medium\">\n",
    "در این قسمت باید یک کلاس با نام <code>Model</code>  بسازید که دارای سه تابع زیر است. در ادامه به شرح جزئیات هر تابع می‌پردازیم.\n",
    "</p>\n",
    "</font>\n",
    "\n",
    "```python\n",
    "def __init__(self)\n",
    "def predict(self, inputs)\n",
    "def update_weights_for_one_epoch(self, inputs, outputs, learning_rate)\n",
    "def fit(self, inputs, outputs, learning_rate, epochs=64)\n",
    "```"
   ]
  },
  {
   "attachments": {},
   "cell_type": "markdown",
   "id": "1c7aa36f-14f1-4c5e-a719-df49aa765cd6",
   "metadata": {},
   "source": [
    "<h3 align=right style=\"line-height:200%;font-family:vazir;color:#0099cc\">\n",
    "<font face=\"vazir\" color=\"#0099cc\">\n",
    "   <code>__init__</code> تابع \n",
    "</font>\n",
    "</h3>\n",
    "<p dir=rtl style=\"direction: rtl; text-align: justify; line-height:200%; font-family:vazir; font-size:medium\">\n",
    "<font face=\"vazir\" size=3>\n",
    "در تابع <code>__init__(self)</code> وزن‌های اولیه لایه‌های پنهان و خروجی (<code>w1</code> و <code>w2</code>) را به‌صورت تصادفی با میانگین <code>0</code> و انحراف معیار <code>0.01</code> مقداردهی کنید. برای این کار می‌توان از تابع <code>np.random.randn</code> استفاده کرد. البته توجه داشته باشید تابع <code>np.random.randn</code> اعداد تصادفی با میانگین <code>0</code> و انحراف معیار <code>1</code> تولید می‌کند، بنابراین نیاز است مطابق خواسته‌ی مسئله این مقادیر را کمی تغییر دهید.\n",
    "</font>\n",
    "</p>"
   ]
  },
  {
   "attachments": {},
   "cell_type": "markdown",
   "id": "5c65854b-e9a0-456c-8ff3-fdbad0aba837",
   "metadata": {},
   "source": [
    "<h3 align=right style=\"line-height:200%;font-family:vazir;color:#0099cc\">\n",
    "<font face=\"vazir\" color=\"#0099cc\">\n",
    "   <code>predict</code> تابع \n",
    "</font>\n",
    "</h3>\n",
    "\n",
    "<p dir=rtl style=\"direction: rtl; text-align: justify; line-height:200%; font-family:vazir; font-size:medium\">\n",
    "<font face=\"vazir\" size=3>\n",
    "تابع <code>predict(self, inputs)</code> با گرفتن ورودی‌ها، به‌ترتیب خروجی‌ هر دو لایه (<code>A_1</code> و <code>A_2</code>) را باز می‌گرداند.\n",
    "این عمل را مطابق فرمول‌های زیر انجام دهید.\n",
    "</font>\n",
    "</p>\n",
    "\n",
    "$$Z^{[1]}=W^{[1]}.X$$\n",
    "$$A^{[1]}=ReLU(Z^{[1]})$$\n",
    "$$Z^{[2]}=W^{[2]}A^{[1]}$$\n",
    "$$A^{[2]}=\\sigma(Z^{[2]})=\\frac{1}{1+e^{-Z^{[2]}}}=Y_{pred}$$\n",
    "\n",
    "<p dir=rtl style=\"direction: rtl; text-align: justify; line-height:200%; font-family:vazir; font-size:medium\">\n",
    "<font face=\"vazir\" size=3>\n",
    "<span style=\"color:green\"><b>راهنمایی:</b></span>\n",
    "برای پیاده سازی ضرب ماتریسی دو ماتریس از تابع <code>(arr1.dot(arr2</code> \n",
    " استفاده کنید. به‌طور مثال فرمول $Z^{[1]}=W^{[1]}X$ در پایتون مطابق <code> (W_1.dot(X </code>\n",
    " است.\n",
    "    همچنین می‌توانید از عملگر  <code> @ </code> نیز به‌صورت <code> W_1 @ X</code> استفاده کنید.\n",
    "</font>\n",
    "</p>"
   ]
  },
  {
   "attachments": {},
   "cell_type": "markdown",
   "id": "593020d6-794e-4c55-8e4a-a9206a53c710",
   "metadata": {},
   "source": [
    "<h3 align=right style=\"line-height:200%;font-family:vazir;color:#0099cc\">\n",
    "<font face=\"vazir\" color=\"#0099cc\">\n",
    "   <code>update_weights_for_one_epoch</code> تابع \n",
    "</font>\n",
    "</h3>\n",
    "\n",
    "<p dir=rtl style=\"direction: rtl; text-align: justify; line-height:200%; font-family:vazir; font-size:medium\">\n",
    "<font face=\"vazir\" size=3>\n",
    "در تابع <code>(update_weights_for_one_epoch(self, inputs, outputs, learning_rate</code> باید وزن‌های شبکه را برای یک <code>epoch</code> به‌روزرسانی کنید. توجه داشته باشید مقدار <code>learning_rate</code> همان نرخ یادگیری یا آلفا است . فرمول‌های مورد نیاز برای این بخش در زیر آورده شده است. در فصل بعد جزئیات نحوه‌ی محاسبه‌ی آن‌ها را شرح داده‌ایم.\n",
    "</font>\n",
    "</p>\n",
    "\n",
    "<p dir=rtl style=\"direction: rtl; text-align: justify; line-height:200%; font-family:vazir; font-size:medium\">\n",
    "<font face=\"vazir\" size=3>\n",
    "نحوه به‌روزرسانی <code>w2</code> به شرح زیر می‌باشد:\n",
    "</font>\n",
    "</p>\n",
    "\n",
    "<p dir=rtl style=\"direction: rtl; text-align: justify; line-height:200%; font-family:vazir; font-size:medium\">\n",
    "<font face=\"vazir\" size=3>\n",
    "<span style=\"color:orange\"><b>نکته:</b></span>\n",
    "دقت داشته باشید نماد $\\odot$ ضرب درآیه‌ای می‌باشد و نماد $\\bullet$ ضرب ماتریسی است.\n",
    "</font>\n",
    "</p>\n",
    "                                                                                     \n",
    "$$W^{[2]} = W^{[2]} + \\Delta W^{[2]}$$\n",
    "$$\\Delta W^{[2]} = - \\alpha \\frac{\\partial cost}{\\partial W^{[2]}}$$\n",
    "$$\\frac{\\partial cost}{\\partial W^{[2]}} = (\\frac{-2}{n}(Y_{true}-A^{[2]})\\odot A^{[2]}\\odot (1-A^{[2]}))\\bullet A^{[1]T}$$\n",
    "$$W^{[2]}=W^{[2]}+(\\frac{2 \\alpha}{n}(Y_{true}-A^{[2]})\\odot A^{[2]}\\odot (1-A^{[2]}))\\bullet A^{[1]T}$$\n"
   ]
  },
  {
   "attachments": {},
   "cell_type": "markdown",
   "id": "a7ba7798-3300-4a7b-9392-9786da9ffe56",
   "metadata": {},
   "source": [
    "<p dir=rtl style=\"direction: rtl; text-align: justify; line-height:200%; font-family:vazir; font-size:medium\">\n",
    "<font face=\"vazir\" size=3>\n",
    "نحوه به‌روزرسانی <code>w1</code> به شرح زیر می‌باشد:\n",
    "</font>\n",
    "</p>\n",
    "\n",
    "$$W^{[1]} = W^{[1]} + \\Delta W^{[1]}$$\n",
    "$$\\Delta W^{[1]} = - \\alpha \\frac{\\partial cost}{\\partial W^{[1]}}$$\n",
    "\n",
    "$$\\frac{\\partial cost}{\\partial W^{[1]}} = (((\\frac{-2}{n}(Y_{true}-A^{[2]})\\odot A^{[2]}\\odot (1-A^{[2]}))^T\\bullet W^{[2]})^T\\odot \\frac{\\partial A^{[1]}}{\\partial Z^{[1]}}) \\bullet X^T$$\n",
    "\n",
    "$$W^{[1]}=W^{[1]}+(((\\frac{2 \\alpha}{n}(Y_{true}-A^{[2]})\\odot A^{[2]}\\odot (1-A^{[2]}))^T\\bullet W^{[2]})^T\\odot \\frac{\\partial A^{[1]}}{\\partial Z^{[1]}}) \\bullet X^T$$\n",
    "\n",
    "\n",
    "<p dir=rtl style=\"direction: rtl; text-align: justify; line-height:200%; font-family:vazir; font-size:medium\">\n",
    "<font face=\"vazir\" size=3>\n",
    "    برای به‌دست‌آوردن مقدار $\\frac{\\partial A^{[1]}}{\\partial Z^{[1]}}$ که همان مشتق تابع یکسوساز می‌باشد از قطعه کد زیر استفاده کنید که خروجی آن یک ماتریس با اندازه‌ای برابر با اندازه‌ی $Z^{[1]}$ و متشکل از <code>0</code> و <code>1</code> است، به‌طوری که متناظر با سلول‌هایی که مقدار $Z^{[1]}$ در آن بیشتر از صفر است، مقدار <code>1</code> و در غیر این‌صورت مقدار <code>0</code> دارد. البته به علت نحوه‌ی کد زدن مدل ورودی این تابع را <code>A_1</code> می‌دهیم اما در خروجی تابع تفاوتی ندارد (چرا؟).\n",
    "</font>\n",
    "</p>\n",
    "\n",
    "<center>\n",
    "\n",
    "```python\n",
    "relu_gradient = np.where(A_1 > 0, 1, 0)\n",
    "```\n",
    "\n",
    "</center>\n",
    "\n",
    "<p dir=rtl style=\"direction: rtl; text-align: justify; line-height:200%; font-family:vazir; font-size:medium\">\n",
    "<font face=\"vazir\" size=3>\n",
    " توجه داشته باشید بخشی از $\\Delta W^{[1]}$ در $\\Delta W^{[2]}$ محاسبه شده است که می‌توان با نگه‌داری آن از محاسبه‌ی اضافی جلوگیری کنیم.\n",
    "\n",
    "</font>\n",
    "</p>"
   ]
  },
  {
   "attachments": {},
   "cell_type": "markdown",
   "id": "9b7e0c8e-cfaf-4eda-8ecf-1ffc0d017b8a",
   "metadata": {},
   "source": [
    "<h3 align=right style=\"line-height:200%;font-family:vazir;color:#0099cc\">\n",
    "<font face=\"vazir\" color=\"#0099cc\">\n",
    "   <code>fit</code> تابع \n",
    "</font>\n",
    "</h3>\n",
    "\n",
    "<p dir=rtl style=\"direction: rtl; text-align: justify; line-height:200%; font-family:vazir; font-size:medium\">\n",
    "<font face=\"vazir\" size=3>\n",
    " تابع <code>fit(self, inputs, outputs, learning_rate, epochs=64)</code> به تعداد دور‌های مشخص‌شده (<code>epochs</code>) وزن‌های شبکه را به‌روزرسانی می‌کند. نیازی نیست در این تابع نیازی تغییری ایجاد کنید و کافیست در مراحل بعدی از آن استفاده کنید.\n",
    "\n",
    "</font>\n",
    "</p>"
   ]
  },
  {
   "cell_type": "code",
   "execution_count": 114,
   "id": "c7961eff",
   "metadata": {
    "id": "c7961eff"
   },
   "outputs": [],
   "source": [
    "class Model:\n",
    "\n",
    "    def __init__(self):\n",
    "        self.w1 = np.random.randn(1000,9) # TODO: random matrix with size (1000, number_of_input_feautres)\n",
    "        self.w2 = np.random.randn(1,1000)# TODO: random matrix with size (1, 1000)\n",
    "\n",
    "    def predict(self, inputs):\n",
    "        x = inputs\n",
    "\n",
    "        Z_1 = self.w1.dot(x) # TODO\n",
    "        A_1 = np.maximum(0, Z_1)  # TODO\n",
    "\n",
    "        Z_2 = self.w2.dot(A_1) # TODO\n",
    "        A_2 = 1 / (1 + np.exp(-Z_2)) # TODO\n",
    "\n",
    "        return A_1, A_2\n",
    "\n",
    "    def update_weights_for_one_epoch(self, inputs, outputs, learning_rate):\n",
    "        x, y_true = inputs, outputs\n",
    "        A_1, A_2 = self.predict(inputs)\n",
    "\n",
    "        n = x.shape[1] # TODO (n = number of samples)\n",
    "\n",
    "        shared_coefficient = (2 * learning_rate / n)* (y_true.reshape(1, -1)\n",
    "                                                        - A_2) * A_2 * (1 - A_2)\n",
    "        relu_gradient = np.where(A_1 > 0, 1, 0)\n",
    "        \n",
    "        self.w1 = self.w1 + (self.w2.T @ shared_coefficient) * relu_gradient @ x.T\n",
    "        self.w2 = self.w2 + shared_coefficient @ A_1.T # TODO\n",
    "\n",
    "    def fit(self, inputs, outputs, learning_rate, epochs=64):\n",
    "        for i in range(epochs):\n",
    "            self.update_weights_for_one_epoch(inputs, outputs, learning_rate)"
   ]
  },
  {
   "attachments": {},
   "cell_type": "markdown",
   "id": "25901f4f",
   "metadata": {
    "id": "25901f4f"
   },
   "source": [
    "<h3 align=right style=\"line-height:200%;font-family:vazir;color:#0099cc\">\n",
    "<font face=\"vazir\" color=\"#0099cc\">\n",
    "آموزش و بررسی \n",
    "</font>\n",
    "</h3>\n",
    "\n",
    "<p dir=rtl style=\"direction: rtl; text-align: justify; line-height:200%; font-family:vazir; font-size:medium\">\n",
    "<font face=\"vazir\">\n",
    "    پس از طراحی ساختار شبکه می‌توانید به کمک <code dir=ltr>Model()</code> ابتدا یک شیء از این کلاس بسازید و سپس تابع <code>fit</code> را با آرگومان‌های مناسب صدا بزنید تا آموزش مدل آغاز شود. پیشنهاد می‌شود مقادیر مختلف نرخ یادگیری (مانند <code>0.1</code>، <code>0.01</code>، <code>0.001</code> و...) و همچنین تعداد دور‌های آموزش متفاوت را آزمایش کرده و نتیجه را روی نمونه‌های اعتبارسنجی مقایسه کنید.\n",
    "برای بررسی دقت مدل می‌توانید از تابع <code dir=ltr>evaluation(model, inputs, outputs)</code> استفاده کنید. \n",
    "\n",
    "</font>\n",
    "</p>"
   ]
  },
  {
   "cell_type": "code",
   "execution_count": 115,
   "id": "9_hBcd4eCJs2",
   "metadata": {
    "id": "9_hBcd4eCJs2"
   },
   "outputs": [],
   "source": [
    "def evaluation(model, inputs, outputs):\n",
    "  _, A_2 = model.predict(inputs)\n",
    "  prediction = (A_2 > 0.5)\n",
    "  return np.mean(prediction == outputs) * 100"
   ]
  },
  {
   "cell_type": "code",
   "execution_count": 116,
   "id": "0f7db3fb-9b00-4394-8791-67eefbf798b8",
   "metadata": {},
   "outputs": [
    {
     "name": "stdout",
     "output_type": "stream",
     "text": [
      "you model accuracy on given set: 73.88%\n"
     ]
    }
   ],
   "source": [
    "model = Model()\n",
    "model.fit(X_train, y_train, learning_rate = 5, epochs = 64) # TODO\n",
    "\n",
    "# Model evaluation \n",
    "print(f\"you model accuracy on given set: {round(evaluation(model, X_validation, y_validation), 2)}%\") # TODO"
   ]
  },
  {
   "attachments": {},
   "cell_type": "markdown",
   "id": "KOhcvwjVBXpQ",
   "metadata": {
    "id": "KOhcvwjVBXpQ"
   },
   "source": [
    "<h2 align=right style=\"line-height:200%;font-family:vazir;color:#0099cc\">\n",
    "<font face=\"vazir\" color=\"#0099cc\">\n",
    "پیش‌بینی برای داده آزمون و خروجی\n",
    "</font>\n",
    "</h2>\n",
    "\n",
    "\n",
    "<p dir=rtl style=\"direction: rtl; text-align: justify; line-height:200%; font-family:vazir; font-size:medium\">\n",
    "<font face=\"vazir\">\n",
    "در نهایت باید خروجی مدل خود را برای نمونه‌های آزمون محاسبه کنید. برای این‌کار ابتدا خروجی مدل را روی داده‌ی آزمون به‌دست آورید و سپس اگر مدل احتمال بیشتری دهد که فرد دیابت داشته باشد (خروجی بیشتر از <code>0.5</code>) آن فرد را دارای دیابت پیش‌بینی می‌کنیم و در غیر این‌صورت آن فرد را بدون دیابت پیش‌بینی می‌کنیم. \n",
    "<br>بنابراین در متغیر <code>prediction</code> که از جنس یک آرایه‌ی نامپای است، مقادیر <code>True</code> و <code>False</code> خواهیم داشت، دقت کنید این متغیر نیز در سیستم داوری مورد بررسی قرار خواهد گرفت. \n",
    "</font>\n",
    "</p>\n"
   ]
  },
  {
   "cell_type": "code",
   "execution_count": 123,
   "id": "9I8ip5avBW1a",
   "metadata": {
    "id": "9I8ip5avBW1a"
   },
   "outputs": [
    {
     "name": "stdout",
     "output_type": "stream",
     "text": [
      "[[1.29497073e-025 1.95286026e-003 1.00000000e+000 6.57476853e-062\n",
      "  1.50243844e-064 1.00000000e+000 1.84840691e-004 1.00000000e+000\n",
      "  1.00000000e+000 1.59909797e-040 1.42018075e-004 2.14567596e-053\n",
      "  6.25135571e-109 1.00000000e+000 9.23959427e-026 1.93765643e-007\n",
      "  5.02505975e-065 8.12421359e-017 3.56350766e-044 1.85016883e-059\n",
      "  1.27872359e-014 1.00000000e+000 1.05040636e-017 1.00000000e+000\n",
      "  1.00000000e+000 9.47883889e-006 4.13609528e-078 1.48490149e-018\n",
      "  9.99999975e-001 2.57515934e-067 1.87635235e-004 1.00000000e+000\n",
      "  3.37269560e-016 2.12430127e-017 1.00000000e+000 1.00000000e+000\n",
      "  4.50118204e-055 1.28305004e-057 4.95486313e-065 3.64041572e-028\n",
      "  1.00000000e+000 1.71319262e-030 5.26348157e-008 3.31650211e-019\n",
      "  1.00000000e+000 3.53620917e-041 2.08771726e-034 1.00000000e+000\n",
      "  1.00000000e+000 3.68251878e-051 9.79675023e-033 3.41455106e-032\n",
      "  5.38103688e-065 1.06695266e-036 1.00000000e+000 2.44915473e-006\n",
      "  9.99999673e-001 1.51971152e-020 5.29274515e-016 7.24147102e-008\n",
      "  2.98229669e-019 8.77790150e-058 1.02681327e-023 4.53188165e-030\n",
      "  1.00000000e+000 1.16357677e-051 6.93895508e-027 1.04243833e-037\n",
      "  3.82565255e-031 3.10053813e-060 2.55551510e-034 1.00000000e+000\n",
      "  1.00000000e+000 5.57487771e-044 9.05083976e-055 1.00000000e+000\n",
      "  1.00000000e+000 5.84806345e-037 1.00000000e+000 9.99999461e-001\n",
      "  1.00000000e+000 1.00000000e+000 1.00000000e+000 1.85023498e-015\n",
      "  1.72588343e-068 9.99616901e-001 1.00000000e+000 1.00000000e+000\n",
      "  1.65914680e-016 1.00000000e+000 2.71178036e-019 1.00000000e+000\n",
      "  3.24067946e-053 1.00000000e+000 1.98653190e-052 2.04889433e-057\n",
      "  3.65467776e-004 5.73133238e-050 1.00000000e+000 2.33501114e-056]]\n",
      "['False', 'False', 'True', 'False', 'False', 'True', 'False', 'True', 'True', 'False', 'False', 'False', 'False', 'True', 'False', 'False', 'False', 'False', 'False', 'False', 'False', 'True', 'False', 'True', 'True', 'False', 'False', 'False', 'True', 'False', 'False', 'True', 'False', 'False', 'True', 'True', 'False', 'False', 'False', 'False', 'True', 'False', 'False', 'False', 'True', 'False', 'False', 'True', 'True', 'False', 'False', 'False', 'False', 'False', 'True', 'False', 'True', 'False', 'False', 'False', 'False', 'False', 'False', 'False', 'True', 'False', 'False', 'False', 'False', 'False', 'False', 'True', 'True', 'False', 'False', 'True', 'True', 'False', 'True', 'True', 'True', 'True', 'True', 'False', 'False', 'True', 'True', 'True', 'False', 'True', 'False', 'True', 'False', 'True', 'False', 'False', 'False', 'False', 'True', 'False']\n"
     ]
    }
   ],
   "source": [
    "_ , output= model.predict(test_data_numpy) # TODO\n",
    "prediction = None # TODO\n",
    "#print(output)\n",
    "prediction = []\n",
    "\n",
    "# Iterate over the output and determine prediction values\n",
    "for item in output[0]:\n",
    "    if item <= 0.5:\n",
    "        value = \"False\"\n",
    "    else:\n",
    "        value = \"True\"\n",
    "    prediction.append(value)\n",
    "\n",
    "# Convert the list to a NumPy array\n",
    "#print(prediction)\n"
   ]
  },
  {
   "attachments": {},
   "cell_type": "markdown",
   "id": "db09c5f3",
   "metadata": {
    "id": "db09c5f3"
   },
   "source": [
    "<h2 align=right style=\"line-height:200%;font-family:vazir;color:#0099cc\">\n",
    "<font face=\"vazir\" color=\"#0099cc\">\n",
    "نحوه‌ی داوری تمرین\n",
    "</font>\n",
    "</h2>\n",
    "\n",
    "<p dir=rtl style=\"direction: rtl; text-align: justify; line-height:200%; font-family:vazir; font-size:medium\">\n",
    "<font face=\"vazir\" size=3>\n",
    "در نهایت، در این تمرین هر کدام از توابعی که پیاده کرده‌اید به‌صورت جداگانه مورد داوری قرار خواهد گرفت تا از عملکرد هر کدام به شکل جداگانه مطمئن شوید. دقت مدل شما روی داده‌ی آزمون یا همان متغیر <code>prediction</code> نیز مورد بررسی قرار خواهد گرفت و حداقل دقت مورد قبول <span style=\"color:red\"><b>۶۵ درصد</b></span> می‌باشد.\n",
    "همچنین دیتافریم <code>test_data</code> نیز بررسی و امتیازدهی خواهد شد تا از درستی نحوه‌ی نرمال‌سازی داده‌ها مطمئن شوید.\n",
    "\n",
    "</font>\n",
    "</p>"
   ]
  },
  {
   "attachments": {},
   "cell_type": "markdown",
   "id": "0a77e7cd",
   "metadata": {
    "id": "0a77e7cd"
   },
   "source": [
    "<h2 align=right style=\"line-height:200%;font-family:vazir;color:#0099cc\">\n",
    "<font face=\"vazir\" color=\"#0099cc\">\n",
    "<b>سلول جواب‌ساز</b>\n",
    "</font>\n",
    "</h2>\n",
    "\n",
    "<p dir=rtl style=\"direction: rtl; text-align: justify; line-height:200%; font-family:vazir; font-size:medium\">\n",
    "<font face=\"vazir\" size=3>\n",
    "    سلول‌های زیر را به منظور ساخت فایل‌های کلاس‌های پیاده‌سازی شده و پاسخ خود به پرسش مطرح شده اجرا نمایید.\n",
    "</font>\n",
    "</p>"
   ]
  },
  {
   "cell_type": "code",
   "execution_count": 112,
   "id": "233b9ad0",
   "metadata": {
    "id": "233b9ad0"
   },
   "outputs": [],
   "source": [
    "from inspect import getsource\n",
    "\n",
    "inspect_model = Model()\n",
    "\n",
    "with open(\"model.py\", \"w\") as f:\n",
    "    f.write('import numpy as np\\n')\n",
    "    f.write('class Model:\\n')\n",
    "    f.write(getsource(inspect_model.__init__)+'\\n')\n",
    "    f.write(getsource(inspect_model.predict)+'\\n')\n",
    "    f.write(getsource(inspect_model.update_weights_for_one_epoch)+\"\\n\")\n",
    "    f.write(getsource(inspect_model.fit)+'\\n')\n",
    "f.close()\n",
    "\n",
    "test_data.to_csv('processed_test_data.csv', index=False)\n",
    "np.save(\"prediction.npy\", prediction)"
   ]
  },
  {
   "attachments": {},
   "cell_type": "markdown",
   "id": "40754109",
   "metadata": {
    "id": "40754109"
   },
   "source": [
    "<p dir=rtl style=\"direction: rtl; text-align: justify; line-height:200%; font-family:vazir; font-size:medium\">\n",
    "<font face=\"vazir\" size=3>\n",
    "    برای ساخته‌شدن فایل <code>result.zip</code> سلول زیر را اجرا کنید. توجه داشته باشید که پیش از اجرای سلول زیر تغییرات اعمال شده در نت‌بوک را ذخیره کرده باشید (<code>ctrl+s</code>) تا در صورت نیاز به پشتیبانی امکان بررسی کد شما وجود داشته باشد. همچنین اگر از گوگل کولب استفاده می‌کنید، در صورت نیاز به پشتیبانی حتماً آخرین نسخه از نت‌بوک را به‌صورت دستی دانلود کرده و داخل فایل ارسالی قرار دهید یا لینک کولب را با ما به‌اشتراک بگذارید.\n",
    "</font>\n",
    "</p>"
   ]
  },
  {
   "cell_type": "code",
   "execution_count": 113,
   "id": "2c3bcd76",
   "metadata": {
    "id": "2c3bcd76"
   },
   "outputs": [
    {
     "name": "stdout",
     "output_type": "stream",
     "text": [
      "File Paths:\n",
      "['processed_test_data.csv', 'model.py', 'prediction.npy', 'play_with_shallow.ipynb']\n"
     ]
    }
   ],
   "source": [
    "import zipfile\n",
    "import joblib\n",
    "import os\n",
    "\n",
    "if not os.path.exists(os.path.join(os.getcwd(), 'play_with_shallow.ipynb')):\n",
    "    %notebook -e play_with_shallow.ipynb\n",
    "    \n",
    "def compress(file_names):\n",
    "    print(\"File Paths:\")\n",
    "    print(file_names)\n",
    "    compression = zipfile.ZIP_DEFLATED\n",
    "    with zipfile.ZipFile(\"result.zip\", mode=\"w\") as zf:\n",
    "        for file_name in file_names:\n",
    "            zf.write('./' + file_name, file_name, compress_type=compression)\n",
    "\n",
    "file_names = ['processed_test_data.csv', 'model.py', 'prediction.npy', 'play_with_shallow.ipynb']\n",
    "compress(file_names)"
   ]
  }
 ],
 "metadata": {
  "colab": {
   "provenance": []
  },
  "kernelspec": {
   "display_name": "Python 3 (ipykernel)",
   "language": "python",
   "name": "python3"
  },
  "language_info": {
   "codemirror_mode": {
    "name": "ipython",
    "version": 3
   },
   "file_extension": ".py",
   "mimetype": "text/x-python",
   "name": "python",
   "nbconvert_exporter": "python",
   "pygments_lexer": "ipython3",
   "version": "3.12.3"
  },
  "vscode": {
   "interpreter": {
    "hash": "ad2bdc8ecc057115af97d19610ffacc2b4e99fae6737bb82f5d7fb13d2f2c186"
   }
  }
 },
 "nbformat": 4,
 "nbformat_minor": 5
}
